{
 "cells": [
  {
   "cell_type": "code",
   "execution_count": 1,
   "metadata": {},
   "outputs": [],
   "source": [
    "import datetime, warnings, scipy \n",
    "import pandas as pd\n",
    "import numpy as np\n",
    "import seaborn as sns\n",
    "import matplotlib as mpl\n",
    "import matplotlib.pyplot as plt\n",
    "import matplotlib.patches as patches\n",
    "from datetime import date\n",
    "from matplotlib.patches import ConnectionPatch\n",
    "from collections import OrderedDict\n",
    "from matplotlib.gridspec import GridSpec\n",
    "from mpl_toolkits.basemap import Basemap\n",
    "from sklearn import metrics, linear_model\n",
    "from sklearn.preprocessing import PolynomialFeatures, StandardScaler\n",
    "from sklearn.preprocessing import LabelEncoder, OneHotEncoder\n",
    "from sklearn.model_selection import train_test_split, cross_val_score, cross_val_predict\n",
    "from scipy.optimize import curve_fit\n",
    "plt.rcParams[\"patch.force_edgecolor\"] = True\n",
    "plt.style.use('fivethirtyeight')\n",
    "mpl.rc('patch', edgecolor = 'dimgray', linewidth=1)\n",
    "from IPython.core.interactiveshell import InteractiveShell\n",
    "InteractiveShell.ast_node_interactivity = \"last_expr\"\n",
    "pd.options.display.max_columns = 50\n",
    "%matplotlib inline\n",
    "warnings.filterwarnings(\"ignore\")"
   ]
  },
  {
   "cell_type": "code",
   "execution_count": 2,
   "metadata": {},
   "outputs": [],
   "source": [
    "df = pd.read_csv('flights_sample_cleaned.csv')"
   ]
  },
  {
   "cell_type": "code",
   "execution_count": 3,
   "metadata": {},
   "outputs": [
    {
     "data": {
      "text/html": [
       "<div>\n",
       "<style scoped>\n",
       "    .dataframe tbody tr th:only-of-type {\n",
       "        vertical-align: middle;\n",
       "    }\n",
       "\n",
       "    .dataframe tbody tr th {\n",
       "        vertical-align: top;\n",
       "    }\n",
       "\n",
       "    .dataframe thead th {\n",
       "        text-align: right;\n",
       "    }\n",
       "</style>\n",
       "<table border=\"1\" class=\"dataframe\">\n",
       "  <thead>\n",
       "    <tr style=\"text-align: right;\">\n",
       "      <th></th>\n",
       "      <th>AIRLINE</th>\n",
       "      <th>ABBR_AIRLINE</th>\n",
       "      <th>ORIGIN_AIRPORT</th>\n",
       "      <th>DESTINATION_AIRPORT</th>\n",
       "      <th>DISTANCE</th>\n",
       "      <th>SD_MONTH</th>\n",
       "      <th>SCHEDULED_DEPARTURE</th>\n",
       "      <th>DEPARTURE_TIME</th>\n",
       "      <th>DEPARTURE_DELAY</th>\n",
       "      <th>SCHEDULED_ARRIVAL</th>\n",
       "      <th>ARRIVAL_TIME</th>\n",
       "      <th>ARRIVAL_DELAY</th>\n",
       "      <th>TAXI_OUT</th>\n",
       "      <th>WHEELS_OFF</th>\n",
       "      <th>AIR_TIME</th>\n",
       "      <th>WHEELS_ON</th>\n",
       "      <th>TAXI_IN</th>\n",
       "      <th>ELAPSED_TIME</th>\n",
       "      <th>SCHEDULED_TIME</th>\n",
       "      <th>TOTAL_DELAY</th>\n",
       "      <th>TOTAL_DELAY_MIN</th>\n",
       "      <th>DELAY</th>\n",
       "    </tr>\n",
       "  </thead>\n",
       "  <tbody>\n",
       "    <tr>\n",
       "      <th>0</th>\n",
       "      <td>UA</td>\n",
       "      <td>United Air Lines Inc.</td>\n",
       "      <td>FLL</td>\n",
       "      <td>CLE</td>\n",
       "      <td>1062</td>\n",
       "      <td>4</td>\n",
       "      <td>2015-04-04 11:04:00</td>\n",
       "      <td>2015-04-04 10:59:00</td>\n",
       "      <td>-5.0</td>\n",
       "      <td>2015-04-04 14:00:00</td>\n",
       "      <td>2015-04-04 13:50:00</td>\n",
       "      <td>-10.0</td>\n",
       "      <td>13.0</td>\n",
       "      <td>1112.0</td>\n",
       "      <td>149.0</td>\n",
       "      <td>1341.0</td>\n",
       "      <td>9.0</td>\n",
       "      <td>171.0</td>\n",
       "      <td>176.0</td>\n",
       "      <td>-1 days +23:50:00.000000000</td>\n",
       "      <td>-10.0</td>\n",
       "      <td>0</td>\n",
       "    </tr>\n",
       "    <tr>\n",
       "      <th>1</th>\n",
       "      <td>DL</td>\n",
       "      <td>Delta Air Lines Inc.</td>\n",
       "      <td>SAN</td>\n",
       "      <td>DTW</td>\n",
       "      <td>1956</td>\n",
       "      <td>12</td>\n",
       "      <td>2015-12-27 11:35:00</td>\n",
       "      <td>2015-12-27 11:29:00</td>\n",
       "      <td>-6.0</td>\n",
       "      <td>2015-12-27 18:59:00</td>\n",
       "      <td>2015-12-27 18:53:00</td>\n",
       "      <td>-6.0</td>\n",
       "      <td>29.0</td>\n",
       "      <td>1158.0</td>\n",
       "      <td>229.0</td>\n",
       "      <td>1847.0</td>\n",
       "      <td>6.0</td>\n",
       "      <td>264.0</td>\n",
       "      <td>264.0</td>\n",
       "      <td>-1 days +23:54:00.000000000</td>\n",
       "      <td>-6.0</td>\n",
       "      <td>0</td>\n",
       "    </tr>\n",
       "    <tr>\n",
       "      <th>2</th>\n",
       "      <td>WN</td>\n",
       "      <td>Southwest Airlines Co.</td>\n",
       "      <td>MKE</td>\n",
       "      <td>RSW</td>\n",
       "      <td>1183</td>\n",
       "      <td>5</td>\n",
       "      <td>2015-05-21 06:05:00</td>\n",
       "      <td>2015-05-21 05:58:00</td>\n",
       "      <td>-7.0</td>\n",
       "      <td>2015-05-21 10:00:00</td>\n",
       "      <td>2015-05-21 09:50:00</td>\n",
       "      <td>-10.0</td>\n",
       "      <td>17.0</td>\n",
       "      <td>615.0</td>\n",
       "      <td>151.0</td>\n",
       "      <td>946.0</td>\n",
       "      <td>4.0</td>\n",
       "      <td>172.0</td>\n",
       "      <td>175.0</td>\n",
       "      <td>-1 days +23:50:00.000000000</td>\n",
       "      <td>-10.0</td>\n",
       "      <td>0</td>\n",
       "    </tr>\n",
       "    <tr>\n",
       "      <th>3</th>\n",
       "      <td>WN</td>\n",
       "      <td>Southwest Airlines Co.</td>\n",
       "      <td>MDW</td>\n",
       "      <td>CLE</td>\n",
       "      <td>307</td>\n",
       "      <td>7</td>\n",
       "      <td>2015-07-05 22:15:00</td>\n",
       "      <td>2015-07-05 22:13:00</td>\n",
       "      <td>-2.0</td>\n",
       "      <td>2015-07-05 00:20:00</td>\n",
       "      <td>2015-07-05 00:24:00</td>\n",
       "      <td>4.0</td>\n",
       "      <td>14.0</td>\n",
       "      <td>2227.0</td>\n",
       "      <td>50.0</td>\n",
       "      <td>17.0</td>\n",
       "      <td>7.0</td>\n",
       "      <td>71.0</td>\n",
       "      <td>65.0</td>\n",
       "      <td>0 days 00:04:00.000000000</td>\n",
       "      <td>4.0</td>\n",
       "      <td>1</td>\n",
       "    </tr>\n",
       "    <tr>\n",
       "      <th>4</th>\n",
       "      <td>AA</td>\n",
       "      <td>American Airlines Inc.</td>\n",
       "      <td>PDX</td>\n",
       "      <td>PHX</td>\n",
       "      <td>1009</td>\n",
       "      <td>11</td>\n",
       "      <td>2015-11-06 08:40:00</td>\n",
       "      <td>2015-11-06 08:39:00</td>\n",
       "      <td>-1.0</td>\n",
       "      <td>2015-11-06 12:07:00</td>\n",
       "      <td>2015-11-06 12:03:00</td>\n",
       "      <td>-4.0</td>\n",
       "      <td>10.0</td>\n",
       "      <td>849.0</td>\n",
       "      <td>127.0</td>\n",
       "      <td>1156.0</td>\n",
       "      <td>7.0</td>\n",
       "      <td>144.0</td>\n",
       "      <td>147.0</td>\n",
       "      <td>-1 days +23:56:00.000000000</td>\n",
       "      <td>-4.0</td>\n",
       "      <td>0</td>\n",
       "    </tr>\n",
       "  </tbody>\n",
       "</table>\n",
       "</div>"
      ],
      "text/plain": [
       "  AIRLINE            ABBR_AIRLINE ORIGIN_AIRPORT DESTINATION_AIRPORT  \\\n",
       "0      UA   United Air Lines Inc.            FLL                 CLE   \n",
       "1      DL    Delta Air Lines Inc.            SAN                 DTW   \n",
       "2      WN  Southwest Airlines Co.            MKE                 RSW   \n",
       "3      WN  Southwest Airlines Co.            MDW                 CLE   \n",
       "4      AA  American Airlines Inc.            PDX                 PHX   \n",
       "\n",
       "   DISTANCE  SD_MONTH  SCHEDULED_DEPARTURE       DEPARTURE_TIME  \\\n",
       "0      1062         4  2015-04-04 11:04:00  2015-04-04 10:59:00   \n",
       "1      1956        12  2015-12-27 11:35:00  2015-12-27 11:29:00   \n",
       "2      1183         5  2015-05-21 06:05:00  2015-05-21 05:58:00   \n",
       "3       307         7  2015-07-05 22:15:00  2015-07-05 22:13:00   \n",
       "4      1009        11  2015-11-06 08:40:00  2015-11-06 08:39:00   \n",
       "\n",
       "   DEPARTURE_DELAY    SCHEDULED_ARRIVAL         ARRIVAL_TIME  ARRIVAL_DELAY  \\\n",
       "0             -5.0  2015-04-04 14:00:00  2015-04-04 13:50:00          -10.0   \n",
       "1             -6.0  2015-12-27 18:59:00  2015-12-27 18:53:00           -6.0   \n",
       "2             -7.0  2015-05-21 10:00:00  2015-05-21 09:50:00          -10.0   \n",
       "3             -2.0  2015-07-05 00:20:00  2015-07-05 00:24:00            4.0   \n",
       "4             -1.0  2015-11-06 12:07:00  2015-11-06 12:03:00           -4.0   \n",
       "\n",
       "   TAXI_OUT  WHEELS_OFF  AIR_TIME  WHEELS_ON  TAXI_IN  ELAPSED_TIME  \\\n",
       "0      13.0      1112.0     149.0     1341.0      9.0         171.0   \n",
       "1      29.0      1158.0     229.0     1847.0      6.0         264.0   \n",
       "2      17.0       615.0     151.0      946.0      4.0         172.0   \n",
       "3      14.0      2227.0      50.0       17.0      7.0          71.0   \n",
       "4      10.0       849.0     127.0     1156.0      7.0         144.0   \n",
       "\n",
       "   SCHEDULED_TIME                  TOTAL_DELAY  TOTAL_DELAY_MIN  DELAY  \n",
       "0           176.0  -1 days +23:50:00.000000000            -10.0      0  \n",
       "1           264.0  -1 days +23:54:00.000000000             -6.0      0  \n",
       "2           175.0  -1 days +23:50:00.000000000            -10.0      0  \n",
       "3            65.0    0 days 00:04:00.000000000              4.0      1  \n",
       "4           147.0  -1 days +23:56:00.000000000             -4.0      0  "
      ]
     },
     "execution_count": 3,
     "metadata": {},
     "output_type": "execute_result"
    }
   ],
   "source": [
    "df.head()"
   ]
  },
  {
   "cell_type": "code",
   "execution_count": 4,
   "metadata": {},
   "outputs": [
    {
     "name": "stdout",
     "output_type": "stream",
     "text": [
      "<class 'pandas.core.frame.DataFrame'>\n",
      "RangeIndex: 236265 entries, 0 to 236264\n",
      "Data columns (total 22 columns):\n",
      "AIRLINE                236265 non-null object\n",
      "ABBR_AIRLINE           236265 non-null object\n",
      "ORIGIN_AIRPORT         236265 non-null object\n",
      "DESTINATION_AIRPORT    236265 non-null object\n",
      "DISTANCE               236265 non-null int64\n",
      "SD_MONTH               236265 non-null int64\n",
      "SCHEDULED_DEPARTURE    236265 non-null object\n",
      "DEPARTURE_TIME         236265 non-null object\n",
      "DEPARTURE_DELAY        236265 non-null float64\n",
      "SCHEDULED_ARRIVAL      236265 non-null object\n",
      "ARRIVAL_TIME           236265 non-null object\n",
      "ARRIVAL_DELAY          236265 non-null float64\n",
      "TAXI_OUT               236265 non-null float64\n",
      "WHEELS_OFF             236265 non-null float64\n",
      "AIR_TIME               236265 non-null float64\n",
      "WHEELS_ON              236265 non-null float64\n",
      "TAXI_IN                236265 non-null float64\n",
      "ELAPSED_TIME           236265 non-null float64\n",
      "SCHEDULED_TIME         236265 non-null float64\n",
      "TOTAL_DELAY            236265 non-null object\n",
      "TOTAL_DELAY_MIN        236265 non-null float64\n",
      "DELAY                  236265 non-null int64\n",
      "dtypes: float64(10), int64(3), object(9)\n",
      "memory usage: 39.7+ MB\n"
     ]
    }
   ],
   "source": [
    "df.info()"
   ]
  },
  {
   "cell_type": "code",
   "execution_count": 5,
   "metadata": {},
   "outputs": [],
   "source": [
    "df['SCHEDULED_DEPARTURE'] = pd.to_datetime(df['SCHEDULED_DEPARTURE'])\n",
    "df['DEPARTURE_TIME'] = pd.to_datetime(df['DEPARTURE_TIME'])\n",
    "df['SCHEDULED_ARRIVAL'] = pd.to_datetime(df['SCHEDULED_ARRIVAL'])\n",
    "df['ARRIVAL_TIME'] = pd.to_datetime(df['ARRIVAL_TIME'])"
   ]
  },
  {
   "cell_type": "markdown",
   "metadata": {},
   "source": [
    "__Feature Engineering__<br>\n",
    "Converting to day, month and hour feature from all time stamp features(SCHEDULED_DEPARTURE, DEPARTURE_TIME, SCHEDULED_ARRIVAL, ARRIVAL_TIME)"
   ]
  },
  {
   "cell_type": "code",
   "execution_count": 6,
   "metadata": {},
   "outputs": [],
   "source": [
    "df['SD_DAY'] = df['SCHEDULED_DEPARTURE'].dt.day\n",
    "df['SD_HOUR'] = df['SCHEDULED_DEPARTURE'].dt.hour\n",
    "\n",
    "df['DT_DAY'] = df['DEPARTURE_TIME'].dt.day\n",
    "df['DT_MONTH'] = df['DEPARTURE_TIME'].dt.month\n",
    "df['DT_HOUR'] = df['DEPARTURE_TIME'].dt.hour\n",
    "\n",
    "df['SA_DAY'] = df['SCHEDULED_ARRIVAL'].dt.day\n",
    "df['SA_MONTH'] = df['SCHEDULED_ARRIVAL'].dt.month\n",
    "df['SA_HOUR'] = df['SCHEDULED_ARRIVAL'].dt.hour\n",
    "\n",
    "df['AT_DAY'] = df['ARRIVAL_TIME'].dt.day\n",
    "df['AT_MONTH'] = df['ARRIVAL_TIME'].dt.month\n",
    "df['AT_HOUR'] = df['ARRIVAL_TIME'].dt.hour"
   ]
  },
  {
   "cell_type": "code",
   "execution_count": 7,
   "metadata": {
    "scrolled": false
   },
   "outputs": [],
   "source": [
    "# df = df[['AIRLINE', 'ORIGIN_AIRPORT', 'DESTINATION_AIRPORT',\n",
    "#        'DISTANCE','SD_DAY', 'SD_MONTH','SD_HOUR','DT_DAY',\n",
    "#        'DT_MONTH','DT_HOUR','DEPARTURE_DELAY',\n",
    "#        'SA_DAY','SA_MONTH','SA_HOUR','AT_DAY','AT_MONTH',\n",
    "#        'AT_HOUR', 'ARRIVAL_DELAY','TAXI_OUT', 'WHEELS_OFF',\n",
    "#        'AIR_TIME', 'WHEELS_ON', 'TAXI_IN','ELAPSED_TIME', \n",
    "#        'SCHEDULED_TIME', 'TOTAL_DELAY', 'TOTAL_DELAY_MIN',\n",
    "#        'DELAY']]\n",
    "# df.head()"
   ]
  },
  {
   "cell_type": "code",
   "execution_count": 8,
   "metadata": {
    "scrolled": false
   },
   "outputs": [
    {
     "data": {
      "text/html": [
       "<div>\n",
       "<style scoped>\n",
       "    .dataframe tbody tr th:only-of-type {\n",
       "        vertical-align: middle;\n",
       "    }\n",
       "\n",
       "    .dataframe tbody tr th {\n",
       "        vertical-align: top;\n",
       "    }\n",
       "\n",
       "    .dataframe thead th {\n",
       "        text-align: right;\n",
       "    }\n",
       "</style>\n",
       "<table border=\"1\" class=\"dataframe\">\n",
       "  <thead>\n",
       "    <tr style=\"text-align: right;\">\n",
       "      <th></th>\n",
       "      <th>AIRLINE</th>\n",
       "      <th>ORIGIN_AIRPORT</th>\n",
       "      <th>DESTINATION_AIRPORT</th>\n",
       "      <th>DISTANCE</th>\n",
       "      <th>SD_DAY</th>\n",
       "      <th>SD_MONTH</th>\n",
       "      <th>SD_HOUR</th>\n",
       "      <th>DEPARTURE_DELAY</th>\n",
       "      <th>SA_DAY</th>\n",
       "      <th>SA_MONTH</th>\n",
       "      <th>SA_HOUR</th>\n",
       "      <th>ARRIVAL_DELAY</th>\n",
       "      <th>TAXI_OUT</th>\n",
       "      <th>WHEELS_OFF</th>\n",
       "      <th>AIR_TIME</th>\n",
       "      <th>WHEELS_ON</th>\n",
       "      <th>TAXI_IN</th>\n",
       "      <th>ELAPSED_TIME</th>\n",
       "      <th>SCHEDULED_TIME</th>\n",
       "      <th>TOTAL_DELAY</th>\n",
       "      <th>TOTAL_DELAY_MIN</th>\n",
       "      <th>DELAY</th>\n",
       "    </tr>\n",
       "  </thead>\n",
       "  <tbody>\n",
       "    <tr>\n",
       "      <th>0</th>\n",
       "      <td>UA</td>\n",
       "      <td>FLL</td>\n",
       "      <td>CLE</td>\n",
       "      <td>1062</td>\n",
       "      <td>4</td>\n",
       "      <td>4</td>\n",
       "      <td>11</td>\n",
       "      <td>-5.0</td>\n",
       "      <td>4</td>\n",
       "      <td>4</td>\n",
       "      <td>14</td>\n",
       "      <td>-10.0</td>\n",
       "      <td>13.0</td>\n",
       "      <td>1112.0</td>\n",
       "      <td>149.0</td>\n",
       "      <td>1341.0</td>\n",
       "      <td>9.0</td>\n",
       "      <td>171.0</td>\n",
       "      <td>176.0</td>\n",
       "      <td>-1 days +23:50:00.000000000</td>\n",
       "      <td>-10.0</td>\n",
       "      <td>0</td>\n",
       "    </tr>\n",
       "    <tr>\n",
       "      <th>1</th>\n",
       "      <td>DL</td>\n",
       "      <td>SAN</td>\n",
       "      <td>DTW</td>\n",
       "      <td>1956</td>\n",
       "      <td>27</td>\n",
       "      <td>12</td>\n",
       "      <td>11</td>\n",
       "      <td>-6.0</td>\n",
       "      <td>27</td>\n",
       "      <td>12</td>\n",
       "      <td>18</td>\n",
       "      <td>-6.0</td>\n",
       "      <td>29.0</td>\n",
       "      <td>1158.0</td>\n",
       "      <td>229.0</td>\n",
       "      <td>1847.0</td>\n",
       "      <td>6.0</td>\n",
       "      <td>264.0</td>\n",
       "      <td>264.0</td>\n",
       "      <td>-1 days +23:54:00.000000000</td>\n",
       "      <td>-6.0</td>\n",
       "      <td>0</td>\n",
       "    </tr>\n",
       "    <tr>\n",
       "      <th>2</th>\n",
       "      <td>WN</td>\n",
       "      <td>MKE</td>\n",
       "      <td>RSW</td>\n",
       "      <td>1183</td>\n",
       "      <td>21</td>\n",
       "      <td>5</td>\n",
       "      <td>6</td>\n",
       "      <td>-7.0</td>\n",
       "      <td>21</td>\n",
       "      <td>5</td>\n",
       "      <td>10</td>\n",
       "      <td>-10.0</td>\n",
       "      <td>17.0</td>\n",
       "      <td>615.0</td>\n",
       "      <td>151.0</td>\n",
       "      <td>946.0</td>\n",
       "      <td>4.0</td>\n",
       "      <td>172.0</td>\n",
       "      <td>175.0</td>\n",
       "      <td>-1 days +23:50:00.000000000</td>\n",
       "      <td>-10.0</td>\n",
       "      <td>0</td>\n",
       "    </tr>\n",
       "    <tr>\n",
       "      <th>3</th>\n",
       "      <td>WN</td>\n",
       "      <td>MDW</td>\n",
       "      <td>CLE</td>\n",
       "      <td>307</td>\n",
       "      <td>5</td>\n",
       "      <td>7</td>\n",
       "      <td>22</td>\n",
       "      <td>-2.0</td>\n",
       "      <td>5</td>\n",
       "      <td>7</td>\n",
       "      <td>0</td>\n",
       "      <td>4.0</td>\n",
       "      <td>14.0</td>\n",
       "      <td>2227.0</td>\n",
       "      <td>50.0</td>\n",
       "      <td>17.0</td>\n",
       "      <td>7.0</td>\n",
       "      <td>71.0</td>\n",
       "      <td>65.0</td>\n",
       "      <td>0 days 00:04:00.000000000</td>\n",
       "      <td>4.0</td>\n",
       "      <td>1</td>\n",
       "    </tr>\n",
       "    <tr>\n",
       "      <th>4</th>\n",
       "      <td>AA</td>\n",
       "      <td>PDX</td>\n",
       "      <td>PHX</td>\n",
       "      <td>1009</td>\n",
       "      <td>6</td>\n",
       "      <td>11</td>\n",
       "      <td>8</td>\n",
       "      <td>-1.0</td>\n",
       "      <td>6</td>\n",
       "      <td>11</td>\n",
       "      <td>12</td>\n",
       "      <td>-4.0</td>\n",
       "      <td>10.0</td>\n",
       "      <td>849.0</td>\n",
       "      <td>127.0</td>\n",
       "      <td>1156.0</td>\n",
       "      <td>7.0</td>\n",
       "      <td>144.0</td>\n",
       "      <td>147.0</td>\n",
       "      <td>-1 days +23:56:00.000000000</td>\n",
       "      <td>-4.0</td>\n",
       "      <td>0</td>\n",
       "    </tr>\n",
       "  </tbody>\n",
       "</table>\n",
       "</div>"
      ],
      "text/plain": [
       "  AIRLINE ORIGIN_AIRPORT DESTINATION_AIRPORT  DISTANCE  SD_DAY  SD_MONTH  \\\n",
       "0      UA            FLL                 CLE      1062       4         4   \n",
       "1      DL            SAN                 DTW      1956      27        12   \n",
       "2      WN            MKE                 RSW      1183      21         5   \n",
       "3      WN            MDW                 CLE       307       5         7   \n",
       "4      AA            PDX                 PHX      1009       6        11   \n",
       "\n",
       "   SD_HOUR  DEPARTURE_DELAY  SA_DAY  SA_MONTH  SA_HOUR  ARRIVAL_DELAY  \\\n",
       "0       11             -5.0       4         4       14          -10.0   \n",
       "1       11             -6.0      27        12       18           -6.0   \n",
       "2        6             -7.0      21         5       10          -10.0   \n",
       "3       22             -2.0       5         7        0            4.0   \n",
       "4        8             -1.0       6        11       12           -4.0   \n",
       "\n",
       "   TAXI_OUT  WHEELS_OFF  AIR_TIME  WHEELS_ON  TAXI_IN  ELAPSED_TIME  \\\n",
       "0      13.0      1112.0     149.0     1341.0      9.0         171.0   \n",
       "1      29.0      1158.0     229.0     1847.0      6.0         264.0   \n",
       "2      17.0       615.0     151.0      946.0      4.0         172.0   \n",
       "3      14.0      2227.0      50.0       17.0      7.0          71.0   \n",
       "4      10.0       849.0     127.0     1156.0      7.0         144.0   \n",
       "\n",
       "   SCHEDULED_TIME                  TOTAL_DELAY  TOTAL_DELAY_MIN  DELAY  \n",
       "0           176.0  -1 days +23:50:00.000000000            -10.0      0  \n",
       "1           264.0  -1 days +23:54:00.000000000             -6.0      0  \n",
       "2           175.0  -1 days +23:50:00.000000000            -10.0      0  \n",
       "3            65.0    0 days 00:04:00.000000000              4.0      1  \n",
       "4           147.0  -1 days +23:56:00.000000000             -4.0      0  "
      ]
     },
     "execution_count": 8,
     "metadata": {},
     "output_type": "execute_result"
    }
   ],
   "source": [
    "df = df[['AIRLINE', 'ORIGIN_AIRPORT', 'DESTINATION_AIRPORT',\n",
    "       'DISTANCE','SD_DAY', 'SD_MONTH','SD_HOUR','DEPARTURE_DELAY',\n",
    "       'SA_DAY','SA_MONTH','SA_HOUR', 'ARRIVAL_DELAY','TAXI_OUT', 'WHEELS_OFF',\n",
    "       'AIR_TIME', 'WHEELS_ON', 'TAXI_IN','ELAPSED_TIME', \n",
    "       'SCHEDULED_TIME', 'TOTAL_DELAY', 'TOTAL_DELAY_MIN',\n",
    "       'DELAY']]\n",
    "df.head()"
   ]
  },
  {
   "cell_type": "code",
   "execution_count": 9,
   "metadata": {},
   "outputs": [
    {
     "name": "stdout",
     "output_type": "stream",
     "text": [
      "<class 'pandas.core.frame.DataFrame'>\n",
      "RangeIndex: 236265 entries, 0 to 236264\n",
      "Data columns (total 22 columns):\n",
      "AIRLINE                236265 non-null object\n",
      "ORIGIN_AIRPORT         236265 non-null object\n",
      "DESTINATION_AIRPORT    236265 non-null object\n",
      "DISTANCE               236265 non-null int64\n",
      "SD_DAY                 236265 non-null int64\n",
      "SD_MONTH               236265 non-null int64\n",
      "SD_HOUR                236265 non-null int64\n",
      "DEPARTURE_DELAY        236265 non-null float64\n",
      "SA_DAY                 236265 non-null int64\n",
      "SA_MONTH               236265 non-null int64\n",
      "SA_HOUR                236265 non-null int64\n",
      "ARRIVAL_DELAY          236265 non-null float64\n",
      "TAXI_OUT               236265 non-null float64\n",
      "WHEELS_OFF             236265 non-null float64\n",
      "AIR_TIME               236265 non-null float64\n",
      "WHEELS_ON              236265 non-null float64\n",
      "TAXI_IN                236265 non-null float64\n",
      "ELAPSED_TIME           236265 non-null float64\n",
      "SCHEDULED_TIME         236265 non-null float64\n",
      "TOTAL_DELAY            236265 non-null object\n",
      "TOTAL_DELAY_MIN        236265 non-null float64\n",
      "DELAY                  236265 non-null int64\n",
      "dtypes: float64(10), int64(8), object(4)\n",
      "memory usage: 39.7+ MB\n"
     ]
    }
   ],
   "source": [
    "df.info()"
   ]
  },
  {
   "cell_type": "markdown",
   "metadata": {},
   "source": [
    "Checking the target"
   ]
  },
  {
   "cell_type": "code",
   "execution_count": 10,
   "metadata": {},
   "outputs": [
    {
     "data": {
      "text/plain": [
       "<matplotlib.axes._subplots.AxesSubplot at 0x216e8226860>"
      ]
     },
     "execution_count": 10,
     "metadata": {},
     "output_type": "execute_result"
    },
    {
     "data": {
      "image/png": "[encoded data removed]",
      "text/plain": [
       "<Figure size 432x288 with 1 Axes>"
      ]
     },
     "metadata": {},
     "output_type": "display_data"
    }
   ],
   "source": [
    "sns.countplot(x=df['DELAY'])"
   ]
  },
  {
   "cell_type": "markdown",
   "metadata": {},
   "source": [
    "0:1 ratio is only 2:1 respectively."
   ]
  },
  {
   "cell_type": "markdown",
   "metadata": {},
   "source": [
    "### Pre-Processing Data\n",
    "converting categorical features into one hot binary"
   ]
  },
  {
   "cell_type": "code",
   "execution_count": 11,
   "metadata": {},
   "outputs": [
    {
     "data": {
      "text/html": [
       "<div>\n",
       "<style scoped>\n",
       "    .dataframe tbody tr th:only-of-type {\n",
       "        vertical-align: middle;\n",
       "    }\n",
       "\n",
       "    .dataframe tbody tr th {\n",
       "        vertical-align: top;\n",
       "    }\n",
       "\n",
       "    .dataframe thead th {\n",
       "        text-align: right;\n",
       "    }\n",
       "</style>\n",
       "<table border=\"1\" class=\"dataframe\">\n",
       "  <thead>\n",
       "    <tr style=\"text-align: right;\">\n",
       "      <th></th>\n",
       "      <th>AIRLINE_1</th>\n",
       "      <th>AIRLINE_2</th>\n",
       "      <th>AIRLINE_3</th>\n",
       "      <th>AIRLINE_4</th>\n",
       "      <th>ORIGIN_AIRPORT</th>\n",
       "      <th>DESTINATION_AIRPORT</th>\n",
       "      <th>DISTANCE</th>\n",
       "      <th>SD_DAY</th>\n",
       "      <th>SD_MONTH</th>\n",
       "      <th>SD_HOUR</th>\n",
       "      <th>DEPARTURE_DELAY</th>\n",
       "      <th>SA_DAY</th>\n",
       "      <th>SA_MONTH</th>\n",
       "      <th>SA_HOUR</th>\n",
       "      <th>ARRIVAL_DELAY</th>\n",
       "      <th>TAXI_OUT</th>\n",
       "      <th>WHEELS_OFF</th>\n",
       "      <th>AIR_TIME</th>\n",
       "      <th>WHEELS_ON</th>\n",
       "      <th>TAXI_IN</th>\n",
       "      <th>ELAPSED_TIME</th>\n",
       "      <th>SCHEDULED_TIME</th>\n",
       "      <th>TOTAL_DELAY</th>\n",
       "      <th>TOTAL_DELAY_MIN</th>\n",
       "      <th>DELAY</th>\n",
       "    </tr>\n",
       "  </thead>\n",
       "  <tbody>\n",
       "    <tr>\n",
       "      <th>0</th>\n",
       "      <td>0</td>\n",
       "      <td>0</td>\n",
       "      <td>0</td>\n",
       "      <td>1</td>\n",
       "      <td>FLL</td>\n",
       "      <td>CLE</td>\n",
       "      <td>1062</td>\n",
       "      <td>4</td>\n",
       "      <td>4</td>\n",
       "      <td>11</td>\n",
       "      <td>-5.0</td>\n",
       "      <td>4</td>\n",
       "      <td>4</td>\n",
       "      <td>14</td>\n",
       "      <td>-10.0</td>\n",
       "      <td>13.0</td>\n",
       "      <td>1112.0</td>\n",
       "      <td>149.0</td>\n",
       "      <td>1341.0</td>\n",
       "      <td>9.0</td>\n",
       "      <td>171.0</td>\n",
       "      <td>176.0</td>\n",
       "      <td>-1 days +23:50:00.000000000</td>\n",
       "      <td>-10.0</td>\n",
       "      <td>0</td>\n",
       "    </tr>\n",
       "    <tr>\n",
       "      <th>1</th>\n",
       "      <td>0</td>\n",
       "      <td>0</td>\n",
       "      <td>1</td>\n",
       "      <td>0</td>\n",
       "      <td>SAN</td>\n",
       "      <td>DTW</td>\n",
       "      <td>1956</td>\n",
       "      <td>27</td>\n",
       "      <td>12</td>\n",
       "      <td>11</td>\n",
       "      <td>-6.0</td>\n",
       "      <td>27</td>\n",
       "      <td>12</td>\n",
       "      <td>18</td>\n",
       "      <td>-6.0</td>\n",
       "      <td>29.0</td>\n",
       "      <td>1158.0</td>\n",
       "      <td>229.0</td>\n",
       "      <td>1847.0</td>\n",
       "      <td>6.0</td>\n",
       "      <td>264.0</td>\n",
       "      <td>264.0</td>\n",
       "      <td>-1 days +23:54:00.000000000</td>\n",
       "      <td>-6.0</td>\n",
       "      <td>0</td>\n",
       "    </tr>\n",
       "    <tr>\n",
       "      <th>2</th>\n",
       "      <td>0</td>\n",
       "      <td>0</td>\n",
       "      <td>1</td>\n",
       "      <td>1</td>\n",
       "      <td>MKE</td>\n",
       "      <td>RSW</td>\n",
       "      <td>1183</td>\n",
       "      <td>21</td>\n",
       "      <td>5</td>\n",
       "      <td>6</td>\n",
       "      <td>-7.0</td>\n",
       "      <td>21</td>\n",
       "      <td>5</td>\n",
       "      <td>10</td>\n",
       "      <td>-10.0</td>\n",
       "      <td>17.0</td>\n",
       "      <td>615.0</td>\n",
       "      <td>151.0</td>\n",
       "      <td>946.0</td>\n",
       "      <td>4.0</td>\n",
       "      <td>172.0</td>\n",
       "      <td>175.0</td>\n",
       "      <td>-1 days +23:50:00.000000000</td>\n",
       "      <td>-10.0</td>\n",
       "      <td>0</td>\n",
       "    </tr>\n",
       "    <tr>\n",
       "      <th>3</th>\n",
       "      <td>0</td>\n",
       "      <td>0</td>\n",
       "      <td>1</td>\n",
       "      <td>1</td>\n",
       "      <td>MDW</td>\n",
       "      <td>CLE</td>\n",
       "      <td>307</td>\n",
       "      <td>5</td>\n",
       "      <td>7</td>\n",
       "      <td>22</td>\n",
       "      <td>-2.0</td>\n",
       "      <td>5</td>\n",
       "      <td>7</td>\n",
       "      <td>0</td>\n",
       "      <td>4.0</td>\n",
       "      <td>14.0</td>\n",
       "      <td>2227.0</td>\n",
       "      <td>50.0</td>\n",
       "      <td>17.0</td>\n",
       "      <td>7.0</td>\n",
       "      <td>71.0</td>\n",
       "      <td>65.0</td>\n",
       "      <td>0 days 00:04:00.000000000</td>\n",
       "      <td>4.0</td>\n",
       "      <td>1</td>\n",
       "    </tr>\n",
       "    <tr>\n",
       "      <th>4</th>\n",
       "      <td>0</td>\n",
       "      <td>1</td>\n",
       "      <td>0</td>\n",
       "      <td>0</td>\n",
       "      <td>PDX</td>\n",
       "      <td>PHX</td>\n",
       "      <td>1009</td>\n",
       "      <td>6</td>\n",
       "      <td>11</td>\n",
       "      <td>8</td>\n",
       "      <td>-1.0</td>\n",
       "      <td>6</td>\n",
       "      <td>11</td>\n",
       "      <td>12</td>\n",
       "      <td>-4.0</td>\n",
       "      <td>10.0</td>\n",
       "      <td>849.0</td>\n",
       "      <td>127.0</td>\n",
       "      <td>1156.0</td>\n",
       "      <td>7.0</td>\n",
       "      <td>144.0</td>\n",
       "      <td>147.0</td>\n",
       "      <td>-1 days +23:56:00.000000000</td>\n",
       "      <td>-4.0</td>\n",
       "      <td>0</td>\n",
       "    </tr>\n",
       "  </tbody>\n",
       "</table>\n",
       "</div>"
      ],
      "text/plain": [
       "   AIRLINE_1  AIRLINE_2  AIRLINE_3  AIRLINE_4 ORIGIN_AIRPORT  \\\n",
       "0          0          0          0          1            FLL   \n",
       "1          0          0          1          0            SAN   \n",
       "2          0          0          1          1            MKE   \n",
       "3          0          0          1          1            MDW   \n",
       "4          0          1          0          0            PDX   \n",
       "\n",
       "  DESTINATION_AIRPORT  DISTANCE  SD_DAY  SD_MONTH  SD_HOUR  DEPARTURE_DELAY  \\\n",
       "0                 CLE      1062       4         4       11             -5.0   \n",
       "1                 DTW      1956      27        12       11             -6.0   \n",
       "2                 RSW      1183      21         5        6             -7.0   \n",
       "3                 CLE       307       5         7       22             -2.0   \n",
       "4                 PHX      1009       6        11        8             -1.0   \n",
       "\n",
       "   SA_DAY  SA_MONTH  SA_HOUR  ARRIVAL_DELAY  TAXI_OUT  WHEELS_OFF  AIR_TIME  \\\n",
       "0       4         4       14          -10.0      13.0      1112.0     149.0   \n",
       "1      27        12       18           -6.0      29.0      1158.0     229.0   \n",
       "2      21         5       10          -10.0      17.0       615.0     151.0   \n",
       "3       5         7        0            4.0      14.0      2227.0      50.0   \n",
       "4       6        11       12           -4.0      10.0       849.0     127.0   \n",
       "\n",
       "   WHEELS_ON  TAXI_IN  ELAPSED_TIME  SCHEDULED_TIME  \\\n",
       "0     1341.0      9.0         171.0           176.0   \n",
       "1     1847.0      6.0         264.0           264.0   \n",
       "2      946.0      4.0         172.0           175.0   \n",
       "3       17.0      7.0          71.0            65.0   \n",
       "4     1156.0      7.0         144.0           147.0   \n",
       "\n",
       "                   TOTAL_DELAY  TOTAL_DELAY_MIN  DELAY  \n",
       "0  -1 days +23:50:00.000000000            -10.0      0  \n",
       "1  -1 days +23:54:00.000000000             -6.0      0  \n",
       "2  -1 days +23:50:00.000000000            -10.0      0  \n",
       "3    0 days 00:04:00.000000000              4.0      1  \n",
       "4  -1 days +23:56:00.000000000             -4.0      0  "
      ]
     },
     "execution_count": 11,
     "metadata": {},
     "output_type": "execute_result"
    }
   ],
   "source": [
    "import category_encoders as ce \n",
    "\n",
    "encoder = ce.BinaryEncoder(cols=['AIRLINE'])\n",
    "df = encoder.fit_transform(df).drop('AIRLINE_0',axis =1)\n",
    "\n",
    "df.head()"
   ]
  },
  {
   "cell_type": "code",
   "execution_count": 12,
   "metadata": {},
   "outputs": [],
   "source": [
    "encoder_airport = ce.BinaryEncoder(cols=['ORIGIN_AIRPORT',\n",
    "                                         'DESTINATION_AIRPORT'])\n",
    "df = encoder_airport.fit_transform(df).drop(['ORIGIN_AIRPORT_0','DESTINATION_AIRPORT_0'],axis =1)"
   ]
  },
  {
   "cell_type": "markdown",
   "metadata": {},
   "source": [
    "## Random Forest\n",
    "There will be 2 Model, First model is to re-evaluate which feature is the most important to the target. And the Second model is to try a real life situation predicting which means only the known factor before flight will be used as the training feature"
   ]
  },
  {
   "cell_type": "markdown",
   "metadata": {},
   "source": [
    "___Training Model 1___<br>\n",
    "to re-evaluate which feature is the most important to the target.(advance EDA)"
   ]
  },
  {
   "cell_type": "markdown",
   "metadata": {},
   "source": [
    "___Train Test Split___"
   ]
  },
  {
   "cell_type": "code",
   "execution_count": 13,
   "metadata": {},
   "outputs": [],
   "source": [
    "from sklearn.model_selection import train_test_split"
   ]
  },
  {
   "cell_type": "code",
   "execution_count": 14,
   "metadata": {},
   "outputs": [],
   "source": [
    "X = df.drop(['DELAY','TOTAL_DELAY','TOTAL_DELAY_MIN'],axis=1)\n",
    "y  = df['DELAY']"
   ]
  },
  {
   "cell_type": "code",
   "execution_count": 15,
   "metadata": {},
   "outputs": [],
   "source": [
    "# X =df.drop(['DELAY','TOTAL_DELAY','TOTAL_DELAY_MIN',\n",
    "#             'AIRLINE_1','AIRLINE_2',\n",
    "#             'AIRLINE_3','AIRLINE_4',\n",
    "#            'ORIGIN_AIRPORT_1', 'ORIGIN_AIRPORT_2',\n",
    "#             'ORIGIN_AIRPORT_3','ORIGIN_AIRPORT_4',\n",
    "#            'ORIGIN_AIRPORT_5','ORIGIN_AIRPORT_6',\n",
    "#             'ORIGIN_AIRPORT_7','ORIGIN_AIRPORT_8',\n",
    "#            'ORIGIN_AIRPORT_9','ORIGIN_AIRPORT_10',\n",
    "#            'DESTINATION_AIRPORT_1','DESTINATION_AIRPORT_2',\n",
    "#             'DESTINATION_AIRPORT_3','DESTINATION_AIRPORT_4',\n",
    "#            'DESTINATION_AIRPORT_5','DESTINATION_AIRPORT_6',\n",
    "#             'DESTINATION_AIRPORT_7','DESTINATION_AIRPORT_8',\n",
    "#            'DESTINATION_AIRPORT_9','DESTINATION_AIRPORT_10'\n",
    "#            ],axis=1)\n",
    "# y = df['DELAY']"
   ]
  },
  {
   "cell_type": "code",
   "execution_count": 16,
   "metadata": {},
   "outputs": [
    {
     "data": {
      "text/plain": [
       "ORIGIN_AIRPORT_1            int64\n",
       "ORIGIN_AIRPORT_2            int64\n",
       "ORIGIN_AIRPORT_3            int64\n",
       "ORIGIN_AIRPORT_4            int64\n",
       "ORIGIN_AIRPORT_5            int64\n",
       "ORIGIN_AIRPORT_6            int64\n",
       "ORIGIN_AIRPORT_7            int64\n",
       "ORIGIN_AIRPORT_8            int64\n",
       "ORIGIN_AIRPORT_9            int64\n",
       "ORIGIN_AIRPORT_10           int64\n",
       "DESTINATION_AIRPORT_1       int64\n",
       "DESTINATION_AIRPORT_2       int64\n",
       "DESTINATION_AIRPORT_3       int64\n",
       "DESTINATION_AIRPORT_4       int64\n",
       "DESTINATION_AIRPORT_5       int64\n",
       "DESTINATION_AIRPORT_6       int64\n",
       "DESTINATION_AIRPORT_7       int64\n",
       "DESTINATION_AIRPORT_8       int64\n",
       "DESTINATION_AIRPORT_9       int64\n",
       "DESTINATION_AIRPORT_10      int64\n",
       "AIRLINE_1                   int64\n",
       "AIRLINE_2                   int64\n",
       "AIRLINE_3                   int64\n",
       "AIRLINE_4                   int64\n",
       "DISTANCE                    int64\n",
       "SD_DAY                      int64\n",
       "SD_MONTH                    int64\n",
       "SD_HOUR                     int64\n",
       "DEPARTURE_DELAY           float64\n",
       "SA_DAY                      int64\n",
       "SA_MONTH                    int64\n",
       "SA_HOUR                     int64\n",
       "ARRIVAL_DELAY             float64\n",
       "TAXI_OUT                  float64\n",
       "WHEELS_OFF                float64\n",
       "AIR_TIME                  float64\n",
       "WHEELS_ON                 float64\n",
       "TAXI_IN                   float64\n",
       "ELAPSED_TIME              float64\n",
       "SCHEDULED_TIME            float64\n",
       "dtype: object"
      ]
     },
     "execution_count": 16,
     "metadata": {},
     "output_type": "execute_result"
    }
   ],
   "source": [
    "X.dtypes"
   ]
  },
  {
   "cell_type": "code",
   "execution_count": 17,
   "metadata": {},
   "outputs": [],
   "source": [
    "X_train, X_test, y_train, y_test = train_test_split(X, y, test_size=0.05,random_state=101)"
   ]
  },
  {
   "cell_type": "markdown",
   "metadata": {},
   "source": [
    "__Grid Search Param__"
   ]
  },
  {
   "cell_type": "code",
   "execution_count": 20,
   "metadata": {},
   "outputs": [],
   "source": [
    "from sklearn.ensemble import RandomForestClassifier"
   ]
  },
  {
   "cell_type": "code",
   "execution_count": 21,
   "metadata": {},
   "outputs": [],
   "source": [
    "# from sklearn.model_selection import GridSearchCV\n",
    "# # scores = ['precision', 'recall']\n",
    "# parameters = {\n",
    "#              'class_weight':({0:1,1:5},{0:5,1:1},{0:1,1:1}),\n",
    "#              'max_depth':(10,20,15,),\n",
    "#             #'n_estimators':(50,100,150)\n",
    "#                 }\n",
    "# rfc = RandomForestClassifier()\n",
    "# dt = GridSearchCV(rfc,parameters, scoring= 'precision',cv=5)\n",
    "# dt.fit(X_train,y_train)\n",
    "# dt.best_estimator_"
   ]
  },
  {
   "cell_type": "markdown",
   "metadata": {},
   "source": [
    "_GridSearch result based on ROC-AOC Scoring_ <br>\n",
    "RandomForestClassifier(bootstrap=True, class_weight={0: 1, 1: 1},\n",
    "            criterion='gini', max_depth=10, max_features='auto',\n",
    "            max_leaf_nodes=None, min_impurity_decrease=0.0,\n",
    "            min_impurity_split=None, min_samples_leaf=1,\n",
    "            min_samples_split=2, min_weight_fraction_leaf=0.0,\n",
    "            n_estimators=10, n_jobs=None, oob_score=False,\n",
    "            random_state=None, verbose=0, warm_start=False)"
   ]
  },
  {
   "cell_type": "code",
   "execution_count": 77,
   "metadata": {},
   "outputs": [],
   "source": [
    "rfc_1 = RandomForestClassifier(n_estimators =100) #class_weight={0:1,1:0},max_depth=14"
   ]
  },
  {
   "cell_type": "code",
   "execution_count": 78,
   "metadata": {},
   "outputs": [
    {
     "data": {
      "text/plain": [
       "RandomForestClassifier(bootstrap=True, class_weight=None, criterion='gini',\n",
       "            max_depth=None, max_features='auto', max_leaf_nodes=None,\n",
       "            min_impurity_decrease=0.0, min_impurity_split=None,\n",
       "            min_samples_leaf=1, min_samples_split=2,\n",
       "            min_weight_fraction_leaf=0.0, n_estimators=100, n_jobs=None,\n",
       "            oob_score=False, random_state=None, verbose=0,\n",
       "            warm_start=False)"
      ]
     },
     "execution_count": 78,
     "metadata": {},
     "output_type": "execute_result"
    }
   ],
   "source": [
    "rfc_1.fit(X_train, y_train)"
   ]
  },
  {
   "cell_type": "markdown",
   "metadata": {},
   "source": [
    "___Predictions and Evaluation Model 1___ "
   ]
  },
  {
   "cell_type": "code",
   "execution_count": 79,
   "metadata": {},
   "outputs": [],
   "source": [
    "from sklearn.metrics import classification_report,confusion_matrix,matthews_corrcoef, roc_auc_score, confusion_matrix, accuracy_score, roc_curve, auc,f1_score"
   ]
  },
  {
   "cell_type": "code",
   "execution_count": 80,
   "metadata": {},
   "outputs": [],
   "source": [
    "predict = rfc_1.predict(X_test)\n",
    "predictProb = rfc_1.predict_proba(X_test)"
   ]
  },
  {
   "cell_type": "code",
   "execution_count": 81,
   "metadata": {},
   "outputs": [],
   "source": [
    "predict_tr = rfc_1.predict(X_train)\n",
    "predictProb_tr = rfc_1.predict_proba(X_train)"
   ]
  },
  {
   "cell_type": "markdown",
   "metadata": {},
   "source": [
    "Train Data Result"
   ]
  },
  {
   "cell_type": "code",
   "execution_count": 82,
   "metadata": {},
   "outputs": [
    {
     "name": "stdout",
     "output_type": "stream",
     "text": [
      "              precision    recall  f1-score   support\n",
      "\n",
      "           0       1.00      1.00      1.00    110332\n",
      "           1       1.00      1.00      1.00     55053\n",
      "\n",
      "   micro avg       1.00      1.00      1.00    165385\n",
      "   macro avg       1.00      1.00      1.00    165385\n",
      "weighted avg       1.00      1.00      1.00    165385\n",
      "\n"
     ]
    }
   ],
   "source": [
    "print(classification_report(y_train,predict_tr))"
   ]
  },
  {
   "cell_type": "code",
   "execution_count": 83,
   "metadata": {},
   "outputs": [
    {
     "name": "stdout",
     "output_type": "stream",
     "text": [
      "ROC AUC : 1.0\n",
      "Accuracy : 1.0\n",
      "Matthews Corr_coef : 1.0\n"
     ]
    }
   ],
   "source": [
    "print('ROC AUC :', roc_auc_score(y_train, predictProb_tr[:,1]))\n",
    "print('Accuracy :',accuracy_score(y_train, predict_tr))\n",
    "print('Matthews Corr_coef :',matthews_corrcoef(y_train, predict_tr))"
   ]
  },
  {
   "cell_type": "markdown",
   "metadata": {},
   "source": [
    "Test Data Result"
   ]
  },
  {
   "cell_type": "code",
   "execution_count": 84,
   "metadata": {},
   "outputs": [
    {
     "name": "stdout",
     "output_type": "stream",
     "text": [
      "              precision    recall  f1-score   support\n",
      "\n",
      "           0       0.68      0.94      0.79     47261\n",
      "           1       0.46      0.11      0.17     23619\n",
      "\n",
      "   micro avg       0.66      0.66      0.66     70880\n",
      "   macro avg       0.57      0.52      0.48     70880\n",
      "weighted avg       0.60      0.66      0.58     70880\n",
      "\n"
     ]
    }
   ],
   "source": [
    "print(classification_report(y_test,predict))"
   ]
  },
  {
   "cell_type": "code",
   "execution_count": 85,
   "metadata": {},
   "outputs": [
    {
     "name": "stdout",
     "output_type": "stream",
     "text": [
      "ROC AUC : 0.5764158180271727\n",
      "Accuracy : 0.660426072234763\n",
      "Matthews Corr_coef : 0.07658974482130157\n"
     ]
    }
   ],
   "source": [
    "print('ROC AUC :', roc_auc_score(y_test, predictProb[:,1]))\n",
    "print('Accuracy :',accuracy_score(y_test, predict))\n",
    "print('Matthews Corr_coef :',matthews_corrcoef(y_test, predict))"
   ]
  },
  {
   "cell_type": "markdown",
   "metadata": {},
   "source": [
    "Feature of importance"
   ]
  },
  {
   "cell_type": "code",
   "execution_count": 86,
   "metadata": {
    "scrolled": true
   },
   "outputs": [
    {
     "data": {
      "text/plain": [
       "<matplotlib.axes._subplots.AxesSubplot at 0x2168064bf98>"
      ]
     },
     "execution_count": 86,
     "metadata": {},
     "output_type": "execute_result"
    },
    {
     "data": {
      "image/png": "[encoded data removed]",
      "text/plain": [
       "<Figure size 1440x1440 with 1 Axes>"
      ]
     },
     "metadata": {},
     "output_type": "display_data"
    }
   ],
   "source": [
    "plt.figure(figsize =(20,20))\n",
    "coef1 = pd.Series(rfc_1.feature_importances_, X_train.columns).sort_values(ascending = True)\n",
    "coef1.plot(kind='barh', title='Feature Importances')"
   ]
  },
  {
   "cell_type": "markdown",
   "metadata": {},
   "source": [
    "___Training Model 2___<br>\n",
    "to mimic real life situation where only the known factor in the tickets is train."
   ]
  },
  {
   "cell_type": "markdown",
   "metadata": {},
   "source": [
    "___Train Test Split___"
   ]
  },
  {
   "cell_type": "code",
   "execution_count": 87,
   "metadata": {},
   "outputs": [],
   "source": [
    "from sklearn.model_selection import train_test_split"
   ]
  },
  {
   "cell_type": "code",
   "execution_count": 88,
   "metadata": {},
   "outputs": [],
   "source": [
    "X =df.drop(['DELAY','TOTAL_DELAY','TOTAL_DELAY_MIN',\n",
    "            'DEPARTURE_DELAY','ARRIVAL_DELAY',\n",
    "            'TAXI_OUT','WHEELS_OFF','WHEELS_ON','TAXI_IN',\n",
    "            'ELAPSED_TIME'\n",
    "            ,'AIRLINE_1','AIRLINE_2',\n",
    "            'AIRLINE_3','AIRLINE_4',\n",
    "           'ORIGIN_AIRPORT_1', 'ORIGIN_AIRPORT_2',\n",
    "            'ORIGIN_AIRPORT_3','ORIGIN_AIRPORT_4',\n",
    "           'ORIGIN_AIRPORT_5','ORIGIN_AIRPORT_6',\n",
    "            'ORIGIN_AIRPORT_7','ORIGIN_AIRPORT_8',\n",
    "           'ORIGIN_AIRPORT_9','ORIGIN_AIRPORT_10',\n",
    "           'DESTINATION_AIRPORT_1','DESTINATION_AIRPORT_2',\n",
    "            'DESTINATION_AIRPORT_3','DESTINATION_AIRPORT_4',\n",
    "           'DESTINATION_AIRPORT_5','DESTINATION_AIRPORT_6',\n",
    "            'DESTINATION_AIRPORT_7','DESTINATION_AIRPORT_8',\n",
    "           'DESTINATION_AIRPORT_9','DESTINATION_AIRPORT_10'\n",
    "           ],axis=1)\n",
    "y = df['DELAY']"
   ]
  },
  {
   "cell_type": "code",
   "execution_count": 89,
   "metadata": {},
   "outputs": [
    {
     "data": {
      "text/plain": [
       "Index(['DISTANCE', 'SD_DAY', 'SD_MONTH', 'SD_HOUR', 'SA_DAY', 'SA_MONTH',\n",
       "       'SA_HOUR', 'AIR_TIME', 'SCHEDULED_TIME'],\n",
       "      dtype='object')"
      ]
     },
     "execution_count": 89,
     "metadata": {},
     "output_type": "execute_result"
    }
   ],
   "source": [
    "X.columns"
   ]
  },
  {
   "cell_type": "code",
   "execution_count": 90,
   "metadata": {},
   "outputs": [],
   "source": [
    "X_train, X_test, y_train, y_test = train_test_split(X, y, test_size=0.05,random_state=101)"
   ]
  },
  {
   "cell_type": "code",
   "execution_count": 91,
   "metadata": {},
   "outputs": [],
   "source": [
    "from sklearn.ensemble import RandomForestClassifier"
   ]
  },
  {
   "cell_type": "code",
   "execution_count": 150,
   "metadata": {},
   "outputs": [],
   "source": [
    "rfc_2 = RandomForestClassifier(n_estimators= 100,max_features=5,max_depth = 15,class_weight={0:1,1:2})"
   ]
  },
  {
   "cell_type": "code",
   "execution_count": 151,
   "metadata": {},
   "outputs": [
    {
     "data": {
      "text/plain": [
       "RandomForestClassifier(bootstrap=True, class_weight={0: 1, 1: 2},\n",
       "            criterion='gini', max_depth=15, max_features=5,\n",
       "            max_leaf_nodes=None, min_impurity_decrease=0.0,\n",
       "            min_impurity_split=None, min_samples_leaf=1,\n",
       "            min_samples_split=2, min_weight_fraction_leaf=0.0,\n",
       "            n_estimators=100, n_jobs=None, oob_score=False,\n",
       "            random_state=None, verbose=0, warm_start=False)"
      ]
     },
     "execution_count": 151,
     "metadata": {},
     "output_type": "execute_result"
    }
   ],
   "source": [
    "rfc_2.fit(X_train, y_train)"
   ]
  },
  {
   "cell_type": "markdown",
   "metadata": {},
   "source": [
    "___Predictions and Evaluation Model 2___ "
   ]
  },
  {
   "cell_type": "code",
   "execution_count": 152,
   "metadata": {},
   "outputs": [],
   "source": [
    "from sklearn.metrics import classification_report,confusion_matrix,matthews_corrcoef, roc_auc_score, confusion_matrix, accuracy_score, roc_curve, auc,f1_score"
   ]
  },
  {
   "cell_type": "code",
   "execution_count": 153,
   "metadata": {},
   "outputs": [],
   "source": [
    "predict = rfc_2.predict(X_test)\n",
    "predictProb = rfc_2.predict_proba(X_test)"
   ]
  },
  {
   "cell_type": "code",
   "execution_count": 154,
   "metadata": {},
   "outputs": [],
   "source": [
    "predict_tr = rfc_2.predict(X_train)\n",
    "predictProb_tr = rfc_2.predict_proba(X_train)"
   ]
  },
  {
   "cell_type": "markdown",
   "metadata": {},
   "source": [
    "Train Data Result"
   ]
  },
  {
   "cell_type": "code",
   "execution_count": 155,
   "metadata": {},
   "outputs": [
    {
     "name": "stdout",
     "output_type": "stream",
     "text": [
      "              precision    recall  f1-score   support\n",
      "\n",
      "           0       0.86      0.79      0.82    110332\n",
      "           1       0.64      0.73      0.68     55053\n",
      "\n",
      "   micro avg       0.77      0.77      0.77    165385\n",
      "   macro avg       0.75      0.76      0.75    165385\n",
      "weighted avg       0.78      0.77      0.78    165385\n",
      "\n"
     ]
    }
   ],
   "source": [
    "print(classification_report(y_train,predict_tr))"
   ]
  },
  {
   "cell_type": "code",
   "execution_count": 156,
   "metadata": {},
   "outputs": [
    {
     "name": "stdout",
     "output_type": "stream",
     "text": [
      "ROC AUC : 0.8580354680302571\n",
      "Accuracy : 0.7727423889711884\n",
      "Matthews Corr_coef : 0.5099020987851507\n"
     ]
    }
   ],
   "source": [
    "print('ROC AUC :', roc_auc_score(y_train, predictProb_tr[:,1]))\n",
    "print('Accuracy :',accuracy_score(y_train, predict_tr))\n",
    "print('Matthews Corr_coef :',matthews_corrcoef(y_train, predict_tr))"
   ]
  },
  {
   "cell_type": "markdown",
   "metadata": {},
   "source": [
    "Test Data Result"
   ]
  },
  {
   "cell_type": "code",
   "execution_count": 157,
   "metadata": {},
   "outputs": [
    {
     "name": "stdout",
     "output_type": "stream",
     "text": [
      "              precision    recall  f1-score   support\n",
      "\n",
      "           0       0.71      0.70      0.71     47261\n",
      "           1       0.42      0.43      0.42     23619\n",
      "\n",
      "   micro avg       0.61      0.61      0.61     70880\n",
      "   macro avg       0.56      0.57      0.56     70880\n",
      "weighted avg       0.61      0.61      0.61     70880\n",
      "\n"
     ]
    }
   ],
   "source": [
    "print(classification_report(y_test,predict))"
   ]
  },
  {
   "cell_type": "code",
   "execution_count": 158,
   "metadata": {},
   "outputs": [
    {
     "name": "stdout",
     "output_type": "stream",
     "text": [
      "ROC AUC : 0.5917298616922513\n",
      "Accuracy : 0.6102990970654627\n",
      "Matthews Corr_coef : 0.12994029878245958\n"
     ]
    }
   ],
   "source": [
    "print('ROC AUC :', roc_auc_score(y_test, predictProb[:,1]))\n",
    "print('Accuracy :',accuracy_score(y_test, predict))\n",
    "print('Matthews Corr_coef :',matthews_corrcoef(y_test, predict))"
   ]
  },
  {
   "cell_type": "markdown",
   "metadata": {},
   "source": [
    "Feature of importance"
   ]
  },
  {
   "cell_type": "code",
   "execution_count": 141,
   "metadata": {
    "scrolled": false
   },
   "outputs": [
    {
     "data": {
      "text/plain": [
       "<matplotlib.axes._subplots.AxesSubplot at 0x2168074ceb8>"
      ]
     },
     "execution_count": 141,
     "metadata": {},
     "output_type": "execute_result"
    },
    {
     "data": {
      "image/png": "[encoded data removed]",
      "text/plain": [
       "<Figure size 1440x1440 with 1 Axes>"
      ]
     },
     "metadata": {},
     "output_type": "display_data"
    }
   ],
   "source": [
    "plt.figure(figsize =(20,20))\n",
    "coef1 = pd.Series(rfc_2.feature_importances_, X_train.columns).sort_values(ascending = True)\n",
    "coef1.plot(kind='barh', title='Feature Importances')"
   ]
  },
  {
   "cell_type": "markdown",
   "metadata": {},
   "source": [
    "### Using K-Folds Cross-Validation \n",
    "to check how valid is the model"
   ]
  },
  {
   "cell_type": "code",
   "execution_count": 102,
   "metadata": {},
   "outputs": [],
   "source": [
    "# data = df.drop(['DELAY','TOTAL_DELAY','TOTAL_DELAY_MIN'],axis=1)\n",
    "# target  = df['DELAY']"
   ]
  },
  {
   "cell_type": "code",
   "execution_count": 103,
   "metadata": {},
   "outputs": [],
   "source": [
    "data =df.drop(['DELAY','TOTAL_DELAY','TOTAL_DELAY_MIN',\n",
    "            'DEPARTURE_DELAY','ARRIVAL_DELAY',\n",
    "            'TAXI_OUT','WHEELS_OFF','WHEELS_ON','TAXI_IN',\n",
    "            'ELAPSED_TIME'\n",
    "            ,'AIRLINE_1','AIRLINE_2',\n",
    "            'AIRLINE_3','AIRLINE_4',\n",
    "           'ORIGIN_AIRPORT_1', 'ORIGIN_AIRPORT_2',\n",
    "            'ORIGIN_AIRPORT_3','ORIGIN_AIRPORT_4',\n",
    "           'ORIGIN_AIRPORT_5','ORIGIN_AIRPORT_6',\n",
    "            'ORIGIN_AIRPORT_7','ORIGIN_AIRPORT_8',\n",
    "           'ORIGIN_AIRPORT_9','ORIGIN_AIRPORT_10',\n",
    "           'DESTINATION_AIRPORT_1','DESTINATION_AIRPORT_2',\n",
    "            'DESTINATION_AIRPORT_3','DESTINATION_AIRPORT_4',\n",
    "           'DESTINATION_AIRPORT_5','DESTINATION_AIRPORT_6',\n",
    "            'DESTINATION_AIRPORT_7','DESTINATION_AIRPORT_8',\n",
    "           'DESTINATION_AIRPORT_9','DESTINATION_AIRPORT_10'\n",
    "           ],axis=1)\n",
    "target = df['DELAY']"
   ]
  },
  {
   "cell_type": "code",
   "execution_count": 104,
   "metadata": {},
   "outputs": [
    {
     "data": {
      "text/plain": [
       "(236265, 9)"
      ]
     },
     "execution_count": 104,
     "metadata": {},
     "output_type": "execute_result"
    }
   ],
   "source": [
    "data.shape"
   ]
  },
  {
   "cell_type": "code",
   "execution_count": 105,
   "metadata": {},
   "outputs": [],
   "source": [
    "from sklearn.model_selection import KFold\n",
    "\n",
    "K = 5\n",
    "kf = KFold(n_splits=K,shuffle = True,random_state=42)"
   ]
  },
  {
   "cell_type": "code",
   "execution_count": 106,
   "metadata": {},
   "outputs": [],
   "source": [
    "def calc_error(X, y, model):\n",
    "    predictions = model.predict(X)\n",
    "    predicProba = model.predict_proba(X)\n",
    "    matt = matthews_corrcoef(y, predictions)\n",
    "    f1 = f1_score(y, predictions, average='macro')\n",
    "    report = classification_report(y, predictions)\n",
    "    roc_auc = roc_auc_score(y, predicProba[:,1])\n",
    "    accuracy = accuracy_score(y,predictions)\n",
    "    con = pd.DataFrame(data=confusion_matrix(y,predictions),columns=['P No','P Yes'],index=['A No','A Yes'])\n",
    "        \n",
    "    return {\n",
    "            'report':report,\n",
    "            'matthew':matt,\n",
    "            'f1':f1,\n",
    "            'roc':roc_auc,\n",
    "            'accuracy':accuracy,\n",
    "            'confusion':con\n",
    "            }\n",
    "\n",
    "def calc_metrics(X_train,y_train,X_test,y_test, model):\n",
    "    model.fit(X_train,y_train)\n",
    "    train_error = calc_error(X_train,y_train, model)\n",
    "    validation_error = calc_error(X_test,y_test, model)\n",
    "    \n",
    "    return train_error, validation_error\n",
    "\n",
    "def value_in_kfold(data,scoring_type):\n",
    "    a = []\n",
    "    for i in range(K):\n",
    "        a.append(data[i][scoring_type])\n",
    "    return a"
   ]
  },
  {
   "cell_type": "code",
   "execution_count": 107,
   "metadata": {},
   "outputs": [],
   "source": [
    "from sklearn.linear_model import LogisticRegression"
   ]
  },
  {
   "cell_type": "code",
   "execution_count": 108,
   "metadata": {
    "scrolled": true
   },
   "outputs": [
    {
     "name": "stdout",
     "output_type": "stream",
     "text": [
      "47253 236265\n",
      "47253 236265\n",
      "47253 236265\n",
      "47253 236265\n",
      "47253 236265\n"
     ]
    }
   ],
   "source": [
    "train_errors = []\n",
    "validation_errors = []\n",
    "\n",
    "for train_index, val_index in kf.split(data, target):\n",
    "    \n",
    "    # Split data\n",
    "    X_train, X_val = data.iloc[train_index], data.iloc[val_index]\n",
    "    y_train, y_val = target.iloc[train_index], target.iloc[val_index]\n",
    "    \n",
    "    print(len(X_val),(len(X_train) + len(X_val)))\n",
    "    \n",
    "    # Instantite model\n",
    "    model = rfc_2\n",
    "    \n",
    "    # Calculate Errors\n",
    "    train_error, val_error = calc_metrics(X_train,y_train,X_val, y_val,model)\n",
    "    \n",
    "    train_errors.append(train_error)\n",
    "    validation_errors.append(val_error)"
   ]
  },
  {
   "cell_type": "code",
   "execution_count": 109,
   "metadata": {},
   "outputs": [],
   "source": [
    "acc = value_in_kfold(train_errors,'accuracy')\n",
    "matt = value_in_kfold(train_errors,'matthew')\n",
    "f1 = value_in_kfold(train_errors,'f1')\n",
    "roc = value_in_kfold(train_errors,'roc')\n",
    "con = value_in_kfold(train_errors,'confusion')\n",
    "report = value_in_kfold(train_errors,'report')"
   ]
  },
  {
   "cell_type": "code",
   "execution_count": 110,
   "metadata": {},
   "outputs": [],
   "source": [
    "acc_v = value_in_kfold(validation_errors,'accuracy')\n",
    "matt_v = value_in_kfold(validation_errors,'matthew')\n",
    "f1_v = value_in_kfold(validation_errors,'f1')\n",
    "roc_v = value_in_kfold(validation_errors,'roc')\n",
    "con_v = value_in_kfold(validation_errors,'confusion')\n",
    "report_v = value_in_kfold(validation_errors,'report')"
   ]
  },
  {
   "cell_type": "code",
   "execution_count": 111,
   "metadata": {},
   "outputs": [],
   "source": [
    "data_set = {'Train Acc':acc,\n",
    "            'Test Acc':acc_v,\n",
    "            'Train ROC AUC':roc,\n",
    "            'Test ROC AUC':roc_v,\n",
    "            'Train F1 Score':f1,\n",
    "            'Test F1 Score':f1_v,\n",
    "            'Train Matthews Corr Coef':matt,\n",
    "            'Test Matthews Corr Coef':matt_v}"
   ]
  },
  {
   "cell_type": "code",
   "execution_count": 112,
   "metadata": {},
   "outputs": [
    {
     "data": {
      "text/html": [
       "<div>\n",
       "<style scoped>\n",
       "    .dataframe tbody tr th:only-of-type {\n",
       "        vertical-align: middle;\n",
       "    }\n",
       "\n",
       "    .dataframe tbody tr th {\n",
       "        vertical-align: top;\n",
       "    }\n",
       "\n",
       "    .dataframe thead th {\n",
       "        text-align: right;\n",
       "    }\n",
       "</style>\n",
       "<table border=\"1\" class=\"dataframe\">\n",
       "  <thead>\n",
       "    <tr style=\"text-align: right;\">\n",
       "      <th></th>\n",
       "      <th>Train Acc</th>\n",
       "      <th>Test Acc</th>\n",
       "      <th>Train ROC AUC</th>\n",
       "      <th>Test ROC AUC</th>\n",
       "      <th>Train F1 Score</th>\n",
       "      <th>Test F1 Score</th>\n",
       "      <th>Train Matthews Corr Coef</th>\n",
       "      <th>Test Matthews Corr Coef</th>\n",
       "    </tr>\n",
       "  </thead>\n",
       "  <tbody>\n",
       "    <tr>\n",
       "      <th>0</th>\n",
       "      <td>0.999995</td>\n",
       "      <td>0.641589</td>\n",
       "      <td>1.0</td>\n",
       "      <td>0.565370</td>\n",
       "      <td>0.999994</td>\n",
       "      <td>0.511902</td>\n",
       "      <td>0.999988</td>\n",
       "      <td>0.075186</td>\n",
       "    </tr>\n",
       "    <tr>\n",
       "      <th>1</th>\n",
       "      <td>0.999989</td>\n",
       "      <td>0.641674</td>\n",
       "      <td>1.0</td>\n",
       "      <td>0.569284</td>\n",
       "      <td>0.999988</td>\n",
       "      <td>0.510443</td>\n",
       "      <td>0.999976</td>\n",
       "      <td>0.078433</td>\n",
       "    </tr>\n",
       "    <tr>\n",
       "      <th>2</th>\n",
       "      <td>0.999995</td>\n",
       "      <td>0.644192</td>\n",
       "      <td>1.0</td>\n",
       "      <td>0.566864</td>\n",
       "      <td>0.999994</td>\n",
       "      <td>0.515979</td>\n",
       "      <td>0.999988</td>\n",
       "      <td>0.083437</td>\n",
       "    </tr>\n",
       "    <tr>\n",
       "      <th>3</th>\n",
       "      <td>1.000000</td>\n",
       "      <td>0.645123</td>\n",
       "      <td>1.0</td>\n",
       "      <td>0.567343</td>\n",
       "      <td>1.000000</td>\n",
       "      <td>0.515402</td>\n",
       "      <td>1.000000</td>\n",
       "      <td>0.080832</td>\n",
       "    </tr>\n",
       "    <tr>\n",
       "      <th>4</th>\n",
       "      <td>0.999995</td>\n",
       "      <td>0.643790</td>\n",
       "      <td>1.0</td>\n",
       "      <td>0.568079</td>\n",
       "      <td>0.999994</td>\n",
       "      <td>0.514669</td>\n",
       "      <td>0.999988</td>\n",
       "      <td>0.077111</td>\n",
       "    </tr>\n",
       "  </tbody>\n",
       "</table>\n",
       "</div>"
      ],
      "text/plain": [
       "   Train Acc  Test Acc  Train ROC AUC  Test ROC AUC  Train F1 Score  \\\n",
       "0   0.999995  0.641589            1.0      0.565370        0.999994   \n",
       "1   0.999989  0.641674            1.0      0.569284        0.999988   \n",
       "2   0.999995  0.644192            1.0      0.566864        0.999994   \n",
       "3   1.000000  0.645123            1.0      0.567343        1.000000   \n",
       "4   0.999995  0.643790            1.0      0.568079        0.999994   \n",
       "\n",
       "   Test F1 Score  Train Matthews Corr Coef  Test Matthews Corr Coef  \n",
       "0       0.511902                  0.999988                 0.075186  \n",
       "1       0.510443                  0.999976                 0.078433  \n",
       "2       0.515979                  0.999988                 0.083437  \n",
       "3       0.515402                  1.000000                 0.080832  \n",
       "4       0.514669                  0.999988                 0.077111  "
      ]
     },
     "execution_count": 112,
     "metadata": {},
     "output_type": "execute_result"
    }
   ],
   "source": [
    "dfcc_result = pd.DataFrame(data_set)\n",
    "dfcc_result"
   ]
  },
  {
   "cell_type": "code",
   "execution_count": 113,
   "metadata": {
    "scrolled": true
   },
   "outputs": [
    {
     "name": "stdout",
     "output_type": "stream",
     "text": [
      "Average Train Acc:  0.9999947093306245\n",
      "Average Test Acc:  0.6432734429560028\n",
      "Average Train ROC AUC:  0.9999999992058747\n",
      "Average Test ROC AUC:  0.5673878761576038\n",
      "Average Train F1 Score:  0.9999940419181185\n",
      "Average Test F1 Score:  0.5136789514311519\n",
      "Average Train Matthews Corr Coef:  0.9999880839356958\n",
      "Average Test Matthews Corr Coef:  0.07899971404156093\n"
     ]
    }
   ],
   "source": [
    "for item in data_set.keys():\n",
    "    print('Average ' + str(item) +': ', np.mean(data_set[item]))"
   ]
  },
  {
   "cell_type": "markdown",
   "metadata": {},
   "source": [
    "Report for Train dataset"
   ]
  },
  {
   "cell_type": "code",
   "execution_count": 114,
   "metadata": {
    "scrolled": true
   },
   "outputs": [
    {
     "name": "stdout",
     "output_type": "stream",
     "text": [
      "              precision    recall  f1-score   support\n",
      "\n",
      "           0       1.00      1.00      1.00    126099\n",
      "           1       1.00      1.00      1.00     62913\n",
      "\n",
      "   micro avg       1.00      1.00      1.00    189012\n",
      "   macro avg       1.00      1.00      1.00    189012\n",
      "weighted avg       1.00      1.00      1.00    189012\n",
      "\n",
      "              precision    recall  f1-score   support\n",
      "\n",
      "           0       1.00      1.00      1.00    126275\n",
      "           1       1.00      1.00      1.00     62737\n",
      "\n",
      "   micro avg       1.00      1.00      1.00    189012\n",
      "   macro avg       1.00      1.00      1.00    189012\n",
      "weighted avg       1.00      1.00      1.00    189012\n",
      "\n",
      "              precision    recall  f1-score   support\n",
      "\n",
      "           0       1.00      1.00      1.00    126097\n",
      "           1       1.00      1.00      1.00     62915\n",
      "\n",
      "   micro avg       1.00      1.00      1.00    189012\n",
      "   macro avg       1.00      1.00      1.00    189012\n",
      "weighted avg       1.00      1.00      1.00    189012\n",
      "\n",
      "              precision    recall  f1-score   support\n",
      "\n",
      "           0       1.00      1.00      1.00    125971\n",
      "           1       1.00      1.00      1.00     63041\n",
      "\n",
      "   micro avg       1.00      1.00      1.00    189012\n",
      "   macro avg       1.00      1.00      1.00    189012\n",
      "weighted avg       1.00      1.00      1.00    189012\n",
      "\n",
      "              precision    recall  f1-score   support\n",
      "\n",
      "           0       1.00      1.00      1.00    125930\n",
      "           1       1.00      1.00      1.00     63082\n",
      "\n",
      "   micro avg       1.00      1.00      1.00    189012\n",
      "   macro avg       1.00      1.00      1.00    189012\n",
      "weighted avg       1.00      1.00      1.00    189012\n",
      "\n"
     ]
    }
   ],
   "source": [
    "for n,item in enumerate(report):\n",
    "    print(item)"
   ]
  },
  {
   "cell_type": "markdown",
   "metadata": {},
   "source": [
    "Result for test dataset"
   ]
  },
  {
   "cell_type": "code",
   "execution_count": 115,
   "metadata": {
    "scrolled": true
   },
   "outputs": [
    {
     "name": "stdout",
     "output_type": "stream",
     "text": [
      "              precision    recall  f1-score   support\n",
      "\n",
      "           0       0.68      0.87      0.76     31494\n",
      "           1       0.42      0.19      0.26     15759\n",
      "\n",
      "   micro avg       0.64      0.64      0.64     47253\n",
      "   macro avg       0.55      0.53      0.51     47253\n",
      "weighted avg       0.59      0.64      0.60     47253\n",
      "\n",
      "              precision    recall  f1-score   support\n",
      "\n",
      "           0       0.68      0.87      0.76     31318\n",
      "           1       0.43      0.18      0.26     15935\n",
      "\n",
      "   micro avg       0.64      0.64      0.64     47253\n",
      "   macro avg       0.55      0.53      0.51     47253\n",
      "weighted avg       0.59      0.64      0.59     47253\n",
      "\n",
      "              precision    recall  f1-score   support\n",
      "\n",
      "           0       0.68      0.87      0.77     31496\n",
      "           1       0.43      0.19      0.27     15757\n",
      "\n",
      "   micro avg       0.64      0.64      0.64     47253\n",
      "   macro avg       0.55      0.53      0.52     47253\n",
      "weighted avg       0.60      0.64      0.60     47253\n",
      "\n",
      "              precision    recall  f1-score   support\n",
      "\n",
      "           0       0.69      0.87      0.77     31622\n",
      "           1       0.42      0.19      0.26     15631\n",
      "\n",
      "   micro avg       0.65      0.65      0.65     47253\n",
      "   macro avg       0.55      0.53      0.52     47253\n",
      "weighted avg       0.60      0.65      0.60     47253\n",
      "\n",
      "              precision    recall  f1-score   support\n",
      "\n",
      "           0       0.69      0.87      0.77     31663\n",
      "           1       0.41      0.19      0.26     15590\n",
      "\n",
      "   micro avg       0.64      0.64      0.64     47253\n",
      "   macro avg       0.55      0.53      0.51     47253\n",
      "weighted avg       0.60      0.64      0.60     47253\n",
      "\n"
     ]
    }
   ],
   "source": [
    "for n,item in enumerate(report_v):\n",
    "    print(item)"
   ]
  },
  {
   "cell_type": "markdown",
   "metadata": {},
   "source": [
    "## Gradient Boosting \n",
    "comparing gradient boosting with random forest"
   ]
  },
  {
   "cell_type": "markdown",
   "metadata": {},
   "source": [
    "___Training Model 1___<br>\n",
    "to re-evaluate which feature is the most important to the target.(advance EDA)"
   ]
  },
  {
   "cell_type": "markdown",
   "metadata": {},
   "source": [
    "___Train Test Split___"
   ]
  },
  {
   "cell_type": "code",
   "execution_count": 116,
   "metadata": {},
   "outputs": [],
   "source": [
    "from sklearn.model_selection import train_test_split"
   ]
  },
  {
   "cell_type": "code",
   "execution_count": 117,
   "metadata": {},
   "outputs": [],
   "source": [
    "X =df.drop(['DELAY','TOTAL_DELAY','TOTAL_DELAY_MIN',\n",
    "            'AIRLINE_1','AIRLINE_2',\n",
    "            'AIRLINE_3','AIRLINE_4',\n",
    "           'ORIGIN_AIRPORT_1', 'ORIGIN_AIRPORT_2',\n",
    "            'ORIGIN_AIRPORT_3','ORIGIN_AIRPORT_4',\n",
    "           'ORIGIN_AIRPORT_5','ORIGIN_AIRPORT_6',\n",
    "            'ORIGIN_AIRPORT_7','ORIGIN_AIRPORT_8',\n",
    "           'ORIGIN_AIRPORT_9','ORIGIN_AIRPORT_10',\n",
    "           'DESTINATION_AIRPORT_1','DESTINATION_AIRPORT_2',\n",
    "            'DESTINATION_AIRPORT_3','DESTINATION_AIRPORT_4',\n",
    "           'DESTINATION_AIRPORT_5','DESTINATION_AIRPORT_6',\n",
    "            'DESTINATION_AIRPORT_7','DESTINATION_AIRPORT_8',\n",
    "           'DESTINATION_AIRPORT_9','DESTINATION_AIRPORT_10'\n",
    "           ],axis=1)\n",
    "y = df['DELAY']"
   ]
  },
  {
   "cell_type": "code",
   "execution_count": 118,
   "metadata": {},
   "outputs": [
    {
     "data": {
      "text/plain": [
       "DISTANCE             int64\n",
       "SD_DAY               int64\n",
       "SD_MONTH             int64\n",
       "SD_HOUR              int64\n",
       "DEPARTURE_DELAY    float64\n",
       "SA_DAY               int64\n",
       "SA_MONTH             int64\n",
       "SA_HOUR              int64\n",
       "ARRIVAL_DELAY      float64\n",
       "TAXI_OUT           float64\n",
       "WHEELS_OFF         float64\n",
       "AIR_TIME           float64\n",
       "WHEELS_ON          float64\n",
       "TAXI_IN            float64\n",
       "ELAPSED_TIME       float64\n",
       "SCHEDULED_TIME     float64\n",
       "dtype: object"
      ]
     },
     "execution_count": 118,
     "metadata": {},
     "output_type": "execute_result"
    }
   ],
   "source": [
    "X.dtypes"
   ]
  },
  {
   "cell_type": "code",
   "execution_count": 119,
   "metadata": {},
   "outputs": [],
   "source": [
    "X_train, X_test, y_train, y_test = train_test_split(X, y, test_size=0.30,random_state=101)"
   ]
  },
  {
   "cell_type": "code",
   "execution_count": 120,
   "metadata": {},
   "outputs": [],
   "source": [
    "from xgboost import XGBClassifier"
   ]
  },
  {
   "cell_type": "code",
   "execution_count": 121,
   "metadata": {},
   "outputs": [],
   "source": [
    "xgb_1 = XGBClassifier(learning_rate=0.1)"
   ]
  },
  {
   "cell_type": "code",
   "execution_count": 122,
   "metadata": {},
   "outputs": [
    {
     "data": {
      "text/plain": [
       "XGBClassifier(base_score=0.5, booster='gbtree', colsample_bylevel=1,\n",
       "       colsample_bytree=1, gamma=0, learning_rate=0.1, max_delta_step=0,\n",
       "       max_depth=3, min_child_weight=1, missing=None, n_estimators=100,\n",
       "       n_jobs=1, nthread=None, objective='binary:logistic', random_state=0,\n",
       "       reg_alpha=0, reg_lambda=1, scale_pos_weight=1, seed=None,\n",
       "       silent=True, subsample=1)"
      ]
     },
     "execution_count": 122,
     "metadata": {},
     "output_type": "execute_result"
    }
   ],
   "source": [
    "xgb_1.fit(X_train, y_train)"
   ]
  },
  {
   "cell_type": "markdown",
   "metadata": {},
   "source": [
    "___Predictions and Evaluation Model 1___ "
   ]
  },
  {
   "cell_type": "code",
   "execution_count": 123,
   "metadata": {},
   "outputs": [],
   "source": [
    "from sklearn.metrics import classification_report,confusion_matrix,matthews_corrcoef, roc_auc_score, confusion_matrix, accuracy_score, roc_curve, auc,f1_score"
   ]
  },
  {
   "cell_type": "code",
   "execution_count": 124,
   "metadata": {},
   "outputs": [],
   "source": [
    "predict = xgb_1.predict(X_test)\n",
    "predictProb = xgb_1.predict_proba(X_test)"
   ]
  },
  {
   "cell_type": "code",
   "execution_count": 125,
   "metadata": {},
   "outputs": [],
   "source": [
    "predict_tr = xgb_1.predict(X_train)\n",
    "predictProb_tr = xgb_1.predict_proba(X_train)"
   ]
  },
  {
   "cell_type": "markdown",
   "metadata": {},
   "source": [
    "Train Data Result"
   ]
  },
  {
   "cell_type": "code",
   "execution_count": 126,
   "metadata": {},
   "outputs": [
    {
     "name": "stdout",
     "output_type": "stream",
     "text": [
      "              precision    recall  f1-score   support\n",
      "\n",
      "           0       0.67      1.00      0.80    110332\n",
      "           1       0.65      0.01      0.02     55053\n",
      "\n",
      "   micro avg       0.67      0.67      0.67    165385\n",
      "   macro avg       0.66      0.50      0.41    165385\n",
      "weighted avg       0.66      0.67      0.54    165385\n",
      "\n"
     ]
    }
   ],
   "source": [
    "print(classification_report(y_train,predict_tr))"
   ]
  },
  {
   "cell_type": "code",
   "execution_count": 127,
   "metadata": {},
   "outputs": [
    {
     "name": "stdout",
     "output_type": "stream",
     "text": [
      "ROC AUC : 0.6065169429046776\n",
      "Accuracy : 0.6688817002751156\n",
      "Matthews Corr_coef : 0.05168408954499516\n"
     ]
    }
   ],
   "source": [
    "print('ROC AUC :', roc_auc_score(y_train, predictProb_tr[:,1]))\n",
    "print('Accuracy :',accuracy_score(y_train, predict_tr))\n",
    "print('Matthews Corr_coef :',matthews_corrcoef(y_train, predict_tr))"
   ]
  },
  {
   "cell_type": "markdown",
   "metadata": {},
   "source": [
    "Test Data Result"
   ]
  },
  {
   "cell_type": "code",
   "execution_count": 128,
   "metadata": {},
   "outputs": [
    {
     "name": "stdout",
     "output_type": "stream",
     "text": [
      "              precision    recall  f1-score   support\n",
      "\n",
      "           0       0.67      1.00      0.80     47261\n",
      "           1       0.60      0.01      0.02     23619\n",
      "\n",
      "   micro avg       0.67      0.67      0.67     70880\n",
      "   macro avg       0.63      0.50      0.41     70880\n",
      "weighted avg       0.65      0.67      0.54     70880\n",
      "\n"
     ]
    }
   ],
   "source": [
    "print(classification_report(y_test,predict))"
   ]
  },
  {
   "cell_type": "code",
   "execution_count": 129,
   "metadata": {},
   "outputs": [
    {
     "name": "stdout",
     "output_type": "stream",
     "text": [
      "ROC AUC : 0.5929259767727135\n",
      "Accuracy : 0.6678752821670428\n",
      "Matthews Corr_coef : 0.042180824466056796\n"
     ]
    }
   ],
   "source": [
    "print('ROC AUC :', roc_auc_score(y_test, predictProb[:,1]))\n",
    "print('Accuracy :',accuracy_score(y_test, predict))\n",
    "print('Matthews Corr_coef :',matthews_corrcoef(y_test, predict))"
   ]
  },
  {
   "cell_type": "markdown",
   "metadata": {},
   "source": [
    "Feature of importance"
   ]
  },
  {
   "cell_type": "code",
   "execution_count": 130,
   "metadata": {
    "scrolled": true
   },
   "outputs": [
    {
     "data": {
      "text/plain": [
       "<matplotlib.axes._subplots.AxesSubplot at 0x21680a158d0>"
      ]
     },
     "execution_count": 130,
     "metadata": {},
     "output_type": "execute_result"
    },
    {
     "data": {
      "image/png": "[encoded data removed]",
      "text/plain": [
       "<Figure size 1440x1440 with 1 Axes>"
      ]
     },
     "metadata": {},
     "output_type": "display_data"
    }
   ],
   "source": [
    "plt.figure(figsize =(20,20))\n",
    "coef1 = pd.Series(xgb_1.feature_importances_, X_train.columns).sort_values(ascending = True)\n",
    "coef1.plot(kind='barh', title='Feature Importances')"
   ]
  },
  {
   "cell_type": "markdown",
   "metadata": {},
   "source": [
    "XGBoost shows worse performance than random forest(RFC) thus for this data I will only use the RFC model. *note that only model 2 will be exported to .sav file since model one was only for EDA purposes."
   ]
  },
  {
   "cell_type": "code",
   "execution_count": 131,
   "metadata": {},
   "outputs": [],
   "source": [
    "import pickle\n",
    "filename = 'flight_rfc_model.sav';\n",
    "pickle.dump(rfc_2, open(filename, 'wb'))"
   ]
  }
 ],
 "metadata": {
  "kernelspec": {
   "display_name": "Python 3",
   "language": "python",
   "name": "python3"
  },
  "language_info": {
   "codemirror_mode": {
    "name": "ipython",
    "version": 3
   },
   "file_extension": ".py",
   "mimetype": "text/x-python",
   "name": "python",
   "nbconvert_exporter": "python",
   "pygments_lexer": "ipython3",
   "version": "3.6.5"
  }
 },
 "nbformat": 4,
 "nbformat_minor": 2
}
